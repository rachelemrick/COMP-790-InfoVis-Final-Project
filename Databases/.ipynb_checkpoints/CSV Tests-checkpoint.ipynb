{
 "cells": [
  {
   "cell_type": "markdown",
   "id": "325bd065-969b-4c08-ad2a-397fb81ef30d",
   "metadata": {},
   "source": [
    "This notebook will allow us to experiment with editing CSV files and hopefully eventually allow us to combine them. Python has a built-in CSV library we can use."
   ]
  },
  {
   "cell_type": "code",
   "execution_count": 1,
   "id": "6cefb56e-0b7d-43f5-b51a-912fe4364df8",
   "metadata": {},
   "outputs": [
    {
     "name": "stdout",
     "output_type": "stream",
     "text": [
      "Total no. of rows: 1513\n",
      "Field names are:, Title, Release Date, Team, Rating, Times Listed, Number of Reviews, Genres, Plays, Playing, Backlogs, Wishlist\n"
     ]
    }
   ],
   "source": [
    "import csv\n",
    "filename = \"popular-games-no-reviews.csv\"\n",
    "\n",
    "# Starter code from https://www.geeksforgeeks.org/working-csv-files-python/#\n",
    "# initializing the titles and rows list\n",
    "original_fields = []\n",
    "original_rows = []\n",
    " \n",
    "# reading csv file\n",
    "with open(filename, 'r', encoding='Latin1') as csvfile:\n",
    "    # creating a csv reader object\n",
    "    csvreader = csv.reader(csvfile)\n",
    " \n",
    "    # extracting field names through first row\n",
    "    original_fields = next(csvreader)\n",
    " \n",
    "    # extracting each data row one by one\n",
    "    for row in csvreader:\n",
    "        original_rows.append(row)\n",
    " \n",
    "    # get total number of rows\n",
    "    print(\"Total no. of rows: %d\" % (csvreader.line_num))\n",
    " \n",
    "# printing the field names\n",
    "print('Field names are:' + ', '.join(field for field in original_fields))"
   ]
  },
  {
   "cell_type": "markdown",
   "id": "bb0a1f8b-215c-4d79-9961-dc4ceee340bf",
   "metadata": {},
   "source": [
    "So now we have the list of rows stored in the variable \"rows\"."
   ]
  },
  {
   "cell_type": "code",
   "execution_count": 2,
   "id": "e47b35c6-a31d-45d5-81de-415c11be7c96",
   "metadata": {},
   "outputs": [
    {
     "name": "stdout",
     "output_type": "stream",
     "text": [
      "[['0', 'Elden Ring', '25-Feb-22', \"['Bandai Namco Entertainment', 'FromSoftware']\", '4.5', '3.9K', '3.9K', \"['Adventure', 'RPG']\", '17K', '3.8K', '4.6K', '4.8K'], ['1', 'Hades', '10-Dec-19', \"['Supergiant Games']\", '4.3', '2.9K', '2.9K', \"['Adventure', 'Brawler', 'Indie', 'RPG']\", '21K', '3.2K', '6.3K', '3.6K'], ['2', 'The Legend of Zelda: Breath of the Wild', '3-Mar-17', \"['Nintendo', 'Nintendo EPD Production Group No. 3']\", '4.4', '4.3K', '4.3K', \"['Adventure', 'RPG']\", '30K', '2.5K', '5K', '2.6K'], ['3', 'Undertale', '15-Sep-15', \"['tobyfox', '8-4']\", '4.2', '3.5K', '3.5K', \"['Adventure', 'Indie', 'RPG', 'Turn Based Strategy']\", '28K', '679', '4.9K', '1.8K'], ['4', 'Hollow Knight', '24-Feb-17', \"['Team Cherry']\", '4.4', '3K', '3K', \"['Adventure', 'Indie', 'Platform']\", '21K', '2.4K', '8.3K', '2.3K']]\n"
     ]
    }
   ],
   "source": [
    "print(original_rows[0:5])"
   ]
  },
  {
   "cell_type": "code",
   "execution_count": 3,
   "id": "c33ebf4d-7d83-4eea-a6c1-cfcc5465004a",
   "metadata": {},
   "outputs": [
    {
     "name": "stdout",
     "output_type": "stream",
     "text": [
      "Undertale\n",
      "['Adventure', 'Indie', 'RPG', 'Turn Based Strategy']\n"
     ]
    }
   ],
   "source": [
    "# These constants correspond to the index of the field\n",
    "TITLE = 1\n",
    "RELEASE_DATE = 2\n",
    "TEAM = 3\n",
    "RATING = 4\n",
    "TIMES_LISTED = 5\n",
    "NUMBER_OF_REVIEWS = 6\n",
    "GENRES = 7\n",
    "PLAYS = 8\n",
    "PLAYING = 9\n",
    "BACKLOGS = 10\n",
    "WISHLIST = 11\n",
    "\n",
    "print(original_rows[3][TITLE])\n",
    "print(original_rows[3][GENRES])"
   ]
  },
  {
   "cell_type": "markdown",
   "id": "ec93b6d8-6d70-45bf-aea3-6098ccc84289",
   "metadata": {},
   "source": [
    "Next, create the new fields that we want to add to. Don't run the cell directly below this more than once!"
   ]
  },
  {
   "cell_type": "code",
   "execution_count": 4,
   "id": "fc5d7012-65a5-467e-87e0-218ebbfad431",
   "metadata": {},
   "outputs": [],
   "source": [
    "DEVELOPER = 12\n",
    "PUBLISHER = 13\n",
    "\n",
    "original_fields.append(\"Developer\")\n",
    "original_fields.append(\"Publisher\")"
   ]
  },
  {
   "cell_type": "code",
   "execution_count": 5,
   "id": "6fc514bb-17f3-4b3b-9683-6e61c9b314e1",
   "metadata": {
    "scrolled": true
   },
   "outputs": [
    {
     "name": "stdout",
     "output_type": "stream",
     "text": [
      "Total no. of rows: 64006\n",
      "Field names are:name, date, platform, publisher, developer, shipped, total, america, europe, japan, other, vgc, critic, user\n"
     ]
    }
   ],
   "source": [
    "# Read in VGChartz DB. Do it with a dictionary this time!\n",
    "# initializing the titles and rows list\n",
    "VGCHARTZ_NAME = 0\n",
    "VGCHARTZ_PUBLISHER = 3\n",
    "VGCHARTZ_DEVELOPER = 4\n",
    "\n",
    "vgchartz_fields = []\n",
    "vgchartz_rows = []\n",
    "vgchartz_dict = {}    # store TITLE -> INDEX, so that we can quickly find the correct row for any given game.\n",
    "                      # We must use lists, because multiple games may be published under the same name (e.g. Tetris).\n",
    "\n",
    "# reading csv file\n",
    "with open(\"vgchartz.csv\", 'r', encoding='Latin1') as csvfile:\n",
    "    # creating a csv reader object\n",
    "    csvreader = csv.reader(csvfile)\n",
    " \n",
    "    # extracting field names through first row\n",
    "    vgchartz_fields = next(csvreader)\n",
    " \n",
    "    # extracting each data row one by one\n",
    "    index = 0\n",
    "    for row in csvreader:\n",
    "        vgchartz_rows.append(row)\n",
    "        # Next, take care of the dictionary\n",
    "        if row[VGCHARTZ_NAME] in vgchartz_dict:\n",
    "            # If there already is a value here, append the new value to the list\n",
    "            vgchartz_dict[row[VGCHARTZ_NAME]].append(index)\n",
    "        else:\n",
    "            # If there isn't a value here yet, create a list for the dictionary\n",
    "            vgchartz_dict[row[VGCHARTZ_NAME]] = [index]\n",
    "            \n",
    "        index += 1\n",
    " \n",
    "    # get total number of rows\n",
    "    print(\"Total no. of rows: %d\" % (csvreader.line_num))\n",
    " \n",
    "# printing the field names\n",
    "print('Field names are:' + ', '.join(field for field in vgchartz_fields))"
   ]
  },
  {
   "cell_type": "code",
   "execution_count": 6,
   "id": "e1005dee-f853-436c-b25f-d0615e1d4148",
   "metadata": {
    "scrolled": true
   },
   "outputs": [
    {
     "name": "stdout",
     "output_type": "stream",
     "text": [
      "[0, 92, 693, 49762, 49763]\n"
     ]
    }
   ],
   "source": [
    "# Test cases\n",
    "print(vgchartz_dict[\"Tetris\"]) # This means that rows 0, 92, 693, 49762, and 49763 contain versions of Tetris\n"
   ]
  },
  {
   "cell_type": "markdown",
   "id": "6626af9a-37a6-40b9-97e0-027157939466",
   "metadata": {},
   "source": [
    "Fill out the new fields. We can do that by looping through original_rows and extracting data from vgchartz_rows using vgchartz_dict for each entry."
   ]
  },
  {
   "cell_type": "code",
   "execution_count": 8,
   "id": "1510d413-eb0e-4c70-bb48-f009cb1bc7ef",
   "metadata": {},
   "outputs": [],
   "source": [
    "for row in original_rows:\n",
    "    # First, find the corresponding entry in vgchartz\n",
    "    title = row[TITLE]\n",
    "    date = row[RELEASE_DATE]\n",
    "\n",
    "    # Check that it exists\n",
    "    if title in vgchartz_dict:\n",
    "        # Once we get here, there is at least one entry in vgchartz for this title\n",
    "        possible_vgchartz_indices = vgchartz_dict[title]\n",
    "\n",
    "        # TODO: Pick out which of the possible indices is the correct one using the release date\n",
    "        # TODO: Then, append the correct developer and publisher information as found from vgchartz\n",
    "\n",
    "    else:\n",
    "        # There was no entry in vgchartz for this title, so we have no publisher/developer data\n",
    "        row.append(None)    # TODO: this might not be the right syntax for an empty entry\n",
    "        row.append(None)\n",
    "    "
   ]
  },
  {
   "cell_type": "code",
   "execution_count": null,
   "id": "aa33a19f-7c3b-4839-a300-257967155ac4",
   "metadata": {},
   "outputs": [],
   "source": []
  }
 ],
 "metadata": {
  "kernelspec": {
   "display_name": "Python 3 (ipykernel)",
   "language": "python",
   "name": "python3"
  },
  "language_info": {
   "codemirror_mode": {
    "name": "ipython",
    "version": 3
   },
   "file_extension": ".py",
   "mimetype": "text/x-python",
   "name": "python",
   "nbconvert_exporter": "python",
   "pygments_lexer": "ipython3",
   "version": "3.11.5"
  }
 },
 "nbformat": 4,
 "nbformat_minor": 5
}
